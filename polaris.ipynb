{
 "cells": [
  {
   "cell_type": "markdown",
   "id": "318a9a29",
   "metadata": {},
   "source": [
    "# POLARIS: Policy-Aligned Local Review Inference System\n",
    "\n",
    "Online reviews shape how people perceive local businesses and locations. Yet, irrelevant, misleading or low-quality reviews can distort reputation and mislead users.\n",
    "\n",
    "This project, developed for a hackathon challenge, leverages an Ollama-hosted model to evaluate the quality and relevancy of online location reviews, aligning them with platform policies. \n",
    "\n",
    "**What it does**\n",
    "- Classifies each review as **Valid** or **Flagged**.\n",
    "- If flagged, selects a **single strongest** policy violation.\n",
    "- Adds a short explanation.\n",
    "\n",
    "**Policies enforced**\n",
    "1. **No Advertisement** — no promotional content, discounts, links.\n",
    "2. **No Irrelevant Content** — must focus on the experience at the specified location.\n",
    "3. **No Rant Without Visit** — must be based on a real visit/experience (not hearsay).\n"
   ]
  }
 ],
 "metadata": {
  "language_info": {
   "name": "python"
  }
 },
 "nbformat": 4,
 "nbformat_minor": 5
}
